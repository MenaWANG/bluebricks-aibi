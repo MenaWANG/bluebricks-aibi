{
 "cells": [
  {
   "cell_type": "markdown",
   "metadata": {
    "application/vnd.databricks.v1+cell": {
     "cellMetadata": {
      "byteLimit": 2048000,
      "rowLimit": 10000
     },
     "inputWidgets": {},
     "nuid": "b56ce2e9-4162-4813-a385-06b0ce860504",
     "showTitle": false,
     "tableResultSettingsMap": {},
     "title": ""
    }
   },
   "source": [
    "# Sentiment Analysis\n",
    "\n",
    "This notebook generate the sentiment analysis results and save it in UC for downstream use. "
   ]
  },
  {
   "cell_type": "markdown",
   "metadata": {
    "application/vnd.databricks.v1+cell": {
     "cellMetadata": {
      "byteLimit": 2048000,
      "rowLimit": 10000
     },
     "inputWidgets": {},
     "nuid": "b5bed8d0-5605-4356-b14e-10446d12cfa5",
     "showTitle": false,
     "tableResultSettingsMap": {},
     "title": ""
    }
   },
   "source": [
    "# Load Data"
   ]
  },
  {
   "cell_type": "code",
   "execution_count": 0,
   "metadata": {
    "application/vnd.databricks.v1+cell": {
     "cellMetadata": {},
     "inputWidgets": {},
     "nuid": "89a93f74-c7d7-4431-8e47-6231f66e92e1",
     "showTitle": false,
     "tableResultSettingsMap": {},
     "title": ""
    }
   },
   "outputs": [],
   "source": [
    "# Standard library imports\n",
    "import textwrap\n",
    "\n",
    "# Third-party imports\n",
    "import pandas as pd\n",
    "import mlflow\n",
    "from transformers import pipeline\n",
    "\n",
    "# Local application imports\n",
    "import de_utils as dut"
   ]
  },
  {
   "cell_type": "code",
   "execution_count": 0,
   "metadata": {
    "application/vnd.databricks.v1+cell": {
     "cellMetadata": {
      "byteLimit": 2048000,
      "rowLimit": 10000
     },
     "inputWidgets": {},
     "nuid": "f49c8dd0-d0a6-4315-8498-f05afe55004c",
     "showTitle": false,
     "tableResultSettingsMap": {},
     "title": ""
    }
   },
   "outputs": [],
   "source": [
    "df_spark = spark.sql(\"SELECT * FROM bupa_call_synthetic_dataset\")\n",
    "df = df_spark.toPandas()"
   ]
  },
  {
   "cell_type": "code",
   "execution_count": 0,
   "metadata": {
    "application/vnd.databricks.v1+cell": {
     "cellMetadata": {
      "byteLimit": 2048000,
      "rowLimit": 10000
     },
     "inputWidgets": {},
     "nuid": "9c3e34ab-5438-416e-8f03-dcdeba771092",
     "showTitle": false,
     "tableResultSettingsMap": {
      "0": {
       "dataGridStateBlob": "{\"tableState\":{\"columnPinning\":{\"left\":[\"#row_number#\"],\"right\":[]},\"columnSizing\":{\"MembershipNumber\":92,\"AgentID\":183},\"columnVisibility\":{}},\"settings\":{\"columns\":{}},\"syncTimestamp\":1747731358012}",
       "filterBlob": null,
       "queryPlanFiltersBlob": null,
       "tableResultIndex": 0
      }
     },
     "title": ""
    }
   },
   "outputs": [
    {
     "output_type": "display_data",
     "data": {
      "text/html": [
       "<style scoped>\n",
       "  .table-result-container {\n",
       "    max-height: 300px;\n",
       "    overflow: auto;\n",
       "  }\n",
       "  table, th, td {\n",
       "    border: 1px solid black;\n",
       "    border-collapse: collapse;\n",
       "  }\n",
       "  th, td {\n",
       "    padding: 5px;\n",
       "  }\n",
       "  th {\n",
       "    text-align: left;\n",
       "  }\n",
       "</style><div class='table-result-container'><table class='table-result'><thead style='background-color: white'><tr><th>CallID</th><th>MembershipNumber</th><th>AgentID</th><th>DatetimeStamp</th><th>AppTag</th><th>FirstContactResolution</th><th>NPS</th><th>NCR</th><th>Summary</th></tr></thead><tbody><tr><td>20250505000001</td><td>68682677</td><td>christopher.brown@bupa.com.au</td><td>2025-05-05T08:00:03.000Z</td><td>Claim Status</td><td>1</td><td>9</td><td>10</td><td>The member called to inquire about claim status. The member reported that their recent hospital claim had not appeared in their online portal and they were unsure about the payment status. The agent checked the claim records, confirmed that the claim was processed yesterday, and guided the member to refresh their portal cache to view the updated status. Information sent via email. Detailed explanations helped build the member�s confidence. They provided clear guidance on the next steps. The agent ensured all questions were answered thoroughly. They provided clear guidance on the next steps. Detailed explanations helped build the member�s confidence. Detailed explanations helped build the member�s confidence. The agent actively listened and showed empathy throughout the call. The agent ensured all questions were answered thoroughly. The agent ensured all questions were answered thoroughly. They provided clear guidance on the next steps. They provided clear guidance on the next steps. The member appreciated the agent�s patience and professionalism. The agent actively listened and showed empathy throughout the call. The agent ensured all questions were answered thoroughly. They provided clear guidance on the next steps. They provided clear guidance on the next steps. Detailed explanations helped build the member�s confidence. They provided clear guidance on the next steps. They provided clear guidance on the next steps. The agent ensured all questions were answered thoroughly. The agent actively listened and showed empathy throughout the call. The agent ensured all questions were answered thoroughly. The member appreciated the agent�s patience and professionalism. Detailed explanations helped build the member�s confidence.</td></tr><tr><td>20250505000002</td><td>17327472</td><td>christopher.brown@bupa.com.au</td><td>2025-05-05T08:00:04.000Z</td><td>Policy Change</td><td>1</td><td>2</td><td>3</td><td>The member called to inquire about policy change. The member wanted to add a newborn to their family policy but was unclear about the effective date and premium difference. The agent updated the policy to include the newborn from the date of birth, recalculated the premium, and emailed the updated policy documents to the member. Resolved on call. They provided clear guidance on the next steps. The agent actively listened and showed empathy throughout the call. Detailed explanations helped build the member�s confidence. The agent ensured all questions were answered thoroughly. The agent actively listened and showed empathy throughout the call. The agent actively listened and showed empathy throughout the call. The agent ensured all questions were answered thoroughly. The agent actively listened and showed empathy throughout the call. The agent actively listened and showed empathy throughout the call. The agent ensured all questions were answered thoroughly. They provided clear guidance on the next steps. The member appreciated the agent�s patience and professionalism. The member appreciated the agent�s patience and professionalism. Detailed explanations helped build the member�s confidence. The agent actively listened and showed empathy throughout the call. The member appreciated the agent�s patience and professionalism. The agent actively listened and showed empathy throughout the call. The agent ensured all questions were answered thoroughly. The agent actively listened and showed empathy throughout the call. The agent ensured all questions were answered thoroughly. Detailed explanations helped build the member�s confidence. Detailed explanations helped build the member�s confidence. The member appreciated the agent�s patience and professionalism.</td></tr><tr><td>20250505000003</td><td>41303110</td><td>sarah.brown@bupa.com.au</td><td>2025-05-05T08:00:05.000Z</td><td>Claim Status</td><td>0</td><td>6</td><td>9</td><td>The member called to inquire about claim status. The member reported that their recent hospital claim had not appeared in their online portal and they were unsure about the payment status. The agent checked the claim records, confirmed that the claim was processed yesterday, and guided the member to refresh their portal cache to view the updated status. Escalated to supervisor. The agent actively listened and showed empathy throughout the call. The agent ensured all questions were answered thoroughly. The member appreciated the agent�s patience and professionalism. The agent actively listened and showed empathy throughout the call. The agent actively listened and showed empathy throughout the call. Detailed explanations helped build the member�s confidence. The agent ensured all questions were answered thoroughly. The agent actively listened and showed empathy throughout the call. Detailed explanations helped build the member�s confidence. Detailed explanations helped build the member�s confidence. They provided clear guidance on the next steps. The agent actively listened and showed empathy throughout the call. The member appreciated the agent�s patience and professionalism. The member appreciated the agent�s patience and professionalism. The agent ensured all questions were answered thoroughly. The member appreciated the agent�s patience and professionalism. The member appreciated the agent�s patience and professionalism. The agent ensured all questions were answered thoroughly. They provided clear guidance on the next steps. The member appreciated the agent�s patience and professionalism. The agent actively listened and showed empathy throughout the call. The agent actively listened and showed empathy throughout the call. The agent ensured all questions were answered thoroughly.</td></tr><tr><td>20250505000004</td><td>10300624</td><td>jessica.johnson@bupa.com.au</td><td>2025-05-05T08:00:05.000Z</td><td>Provider Network</td><td>1</td><td>9</td><td>2</td><td>The member called to inquire about provider network. The member was seeking a list of dentists in the network accepting new patients in their suburb. The agent accessed the network directory, filtered results by suburb, and emailed the member a list of five local dentists accepting new patients. Information sent via email. The agent ensured all questions were answered thoroughly. They provided clear guidance on the next steps. The member appreciated the agent�s patience and professionalism. The agent ensured all questions were answered thoroughly. The agent ensured all questions were answered thoroughly. Detailed explanations helped build the member�s confidence. The member appreciated the agent�s patience and professionalism. The member appreciated the agent�s patience and professionalism. The member appreciated the agent�s patience and professionalism. The agent actively listened and showed empathy throughout the call. The agent actively listened and showed empathy throughout the call. The agent actively listened and showed empathy throughout the call. The agent actively listened and showed empathy throughout the call. The member appreciated the agent�s patience and professionalism. The member appreciated the agent�s patience and professionalism. The agent ensured all questions were answered thoroughly. The member appreciated the agent�s patience and professionalism. The agent actively listened and showed empathy throughout the call. Detailed explanations helped build the member�s confidence. The agent ensured all questions were answered thoroughly. They provided clear guidance on the next steps. Detailed explanations helped build the member�s confidence. The agent ensured all questions were answered thoroughly. The member appreciated the agent�s patience and professionalism.</td></tr><tr><td>20250505000005</td><td>90018954</td><td>amanda.smith@bupa.com.au</td><td>2025-05-05T08:00:06.000Z</td><td>Policy Change</td><td>1</td><td>3</td><td>2</td><td>The member called to inquire about policy change. The member wanted to add a newborn to their family policy but was unclear about the effective date and premium difference. The agent updated the policy to include the newborn from the date of birth, recalculated the premium, and emailed the updated policy documents to the member. Follow-up scheduled. The member appreciated the agent�s patience and professionalism. The agent ensured all questions were answered thoroughly. Detailed explanations helped build the member�s confidence. The member appreciated the agent�s patience and professionalism. Detailed explanations helped build the member�s confidence. The agent actively listened and showed empathy throughout the call. The agent actively listened and showed empathy throughout the call. The member appreciated the agent�s patience and professionalism. Detailed explanations helped build the member�s confidence. Detailed explanations helped build the member�s confidence. They provided clear guidance on the next steps. They provided clear guidance on the next steps. Detailed explanations helped build the member�s confidence. The agent actively listened and showed empathy throughout the call. The member appreciated the agent�s patience and professionalism. The agent actively listened and showed empathy throughout the call. The member appreciated the agent�s patience and professionalism. They provided clear guidance on the next steps. Detailed explanations helped build the member�s confidence. The member appreciated the agent�s patience and professionalism. Detailed explanations helped build the member�s confidence. They provided clear guidance on the next steps. The agent actively listened and showed empathy throughout the call. Detailed explanations helped build the member�s confidence.</td></tr></tbody></table></div>"
      ]
     },
     "metadata": {
      "application/vnd.databricks.v1+output": {
       "addedWidgets": {},
       "aggData": [],
       "aggError": "",
       "aggOverflow": false,
       "aggSchema": [],
       "aggSeriesLimitReached": false,
       "aggType": "",
       "arguments": {},
       "columnCustomDisplayInfos": {},
       "data": [
        [
         20250505000001,
         68682677,
         "christopher.brown@bupa.com.au",
         "2025-05-05T08:00:03.000Z",
         "Claim Status",
         1,
         9,
         10,
         "The member called to inquire about claim status. The member reported that their recent hospital claim had not appeared in their online portal and they were unsure about the payment status. The agent checked the claim records, confirmed that the claim was processed yesterday, and guided the member to refresh their portal cache to view the updated status. Information sent via email. Detailed explanations helped build the member�s confidence. They provided clear guidance on the next steps. The agent ensured all questions were answered thoroughly. They provided clear guidance on the next steps. Detailed explanations helped build the member�s confidence. Detailed explanations helped build the member�s confidence. The agent actively listened and showed empathy throughout the call. The agent ensured all questions were answered thoroughly. The agent ensured all questions were answered thoroughly. They provided clear guidance on the next steps. They provided clear guidance on the next steps. The member appreciated the agent�s patience and professionalism. The agent actively listened and showed empathy throughout the call. The agent ensured all questions were answered thoroughly. They provided clear guidance on the next steps. They provided clear guidance on the next steps. Detailed explanations helped build the member�s confidence. They provided clear guidance on the next steps. They provided clear guidance on the next steps. The agent ensured all questions were answered thoroughly. The agent actively listened and showed empathy throughout the call. The agent ensured all questions were answered thoroughly. The member appreciated the agent�s patience and professionalism. Detailed explanations helped build the member�s confidence."
        ],
        [
         20250505000002,
         17327472,
         "christopher.brown@bupa.com.au",
         "2025-05-05T08:00:04.000Z",
         "Policy Change",
         1,
         2,
         3,
         "The member called to inquire about policy change. The member wanted to add a newborn to their family policy but was unclear about the effective date and premium difference. The agent updated the policy to include the newborn from the date of birth, recalculated the premium, and emailed the updated policy documents to the member. Resolved on call. They provided clear guidance on the next steps. The agent actively listened and showed empathy throughout the call. Detailed explanations helped build the member�s confidence. The agent ensured all questions were answered thoroughly. The agent actively listened and showed empathy throughout the call. The agent actively listened and showed empathy throughout the call. The agent ensured all questions were answered thoroughly. The agent actively listened and showed empathy throughout the call. The agent actively listened and showed empathy throughout the call. The agent ensured all questions were answered thoroughly. They provided clear guidance on the next steps. The member appreciated the agent�s patience and professionalism. The member appreciated the agent�s patience and professionalism. Detailed explanations helped build the member�s confidence. The agent actively listened and showed empathy throughout the call. The member appreciated the agent�s patience and professionalism. The agent actively listened and showed empathy throughout the call. The agent ensured all questions were answered thoroughly. The agent actively listened and showed empathy throughout the call. The agent ensured all questions were answered thoroughly. Detailed explanations helped build the member�s confidence. Detailed explanations helped build the member�s confidence. The member appreciated the agent�s patience and professionalism."
        ],
        [
         20250505000003,
         41303110,
         "sarah.brown@bupa.com.au",
         "2025-05-05T08:00:05.000Z",
         "Claim Status",
         0,
         6,
         9,
         "The member called to inquire about claim status. The member reported that their recent hospital claim had not appeared in their online portal and they were unsure about the payment status. The agent checked the claim records, confirmed that the claim was processed yesterday, and guided the member to refresh their portal cache to view the updated status. Escalated to supervisor. The agent actively listened and showed empathy throughout the call. The agent ensured all questions were answered thoroughly. The member appreciated the agent�s patience and professionalism. The agent actively listened and showed empathy throughout the call. The agent actively listened and showed empathy throughout the call. Detailed explanations helped build the member�s confidence. The agent ensured all questions were answered thoroughly. The agent actively listened and showed empathy throughout the call. Detailed explanations helped build the member�s confidence. Detailed explanations helped build the member�s confidence. They provided clear guidance on the next steps. The agent actively listened and showed empathy throughout the call. The member appreciated the agent�s patience and professionalism. The member appreciated the agent�s patience and professionalism. The agent ensured all questions were answered thoroughly. The member appreciated the agent�s patience and professionalism. The member appreciated the agent�s patience and professionalism. The agent ensured all questions were answered thoroughly. They provided clear guidance on the next steps. The member appreciated the agent�s patience and professionalism. The agent actively listened and showed empathy throughout the call. The agent actively listened and showed empathy throughout the call. The agent ensured all questions were answered thoroughly."
        ],
        [
         20250505000004,
         10300624,
         "jessica.johnson@bupa.com.au",
         "2025-05-05T08:00:05.000Z",
         "Provider Network",
         1,
         9,
         2,
         "The member called to inquire about provider network. The member was seeking a list of dentists in the network accepting new patients in their suburb. The agent accessed the network directory, filtered results by suburb, and emailed the member a list of five local dentists accepting new patients. Information sent via email. The agent ensured all questions were answered thoroughly. They provided clear guidance on the next steps. The member appreciated the agent�s patience and professionalism. The agent ensured all questions were answered thoroughly. The agent ensured all questions were answered thoroughly. Detailed explanations helped build the member�s confidence. The member appreciated the agent�s patience and professionalism. The member appreciated the agent�s patience and professionalism. The member appreciated the agent�s patience and professionalism. The agent actively listened and showed empathy throughout the call. The agent actively listened and showed empathy throughout the call. The agent actively listened and showed empathy throughout the call. The agent actively listened and showed empathy throughout the call. The member appreciated the agent�s patience and professionalism. The member appreciated the agent�s patience and professionalism. The agent ensured all questions were answered thoroughly. The member appreciated the agent�s patience and professionalism. The agent actively listened and showed empathy throughout the call. Detailed explanations helped build the member�s confidence. The agent ensured all questions were answered thoroughly. They provided clear guidance on the next steps. Detailed explanations helped build the member�s confidence. The agent ensured all questions were answered thoroughly. The member appreciated the agent�s patience and professionalism."
        ],
        [
         20250505000005,
         90018954,
         "amanda.smith@bupa.com.au",
         "2025-05-05T08:00:06.000Z",
         "Policy Change",
         1,
         3,
         2,
         "The member called to inquire about policy change. The member wanted to add a newborn to their family policy but was unclear about the effective date and premium difference. The agent updated the policy to include the newborn from the date of birth, recalculated the premium, and emailed the updated policy documents to the member. Follow-up scheduled. The member appreciated the agent�s patience and professionalism. The agent ensured all questions were answered thoroughly. Detailed explanations helped build the member�s confidence. The member appreciated the agent�s patience and professionalism. Detailed explanations helped build the member�s confidence. The agent actively listened and showed empathy throughout the call. The agent actively listened and showed empathy throughout the call. The member appreciated the agent�s patience and professionalism. Detailed explanations helped build the member�s confidence. Detailed explanations helped build the member�s confidence. They provided clear guidance on the next steps. They provided clear guidance on the next steps. Detailed explanations helped build the member�s confidence. The agent actively listened and showed empathy throughout the call. The member appreciated the agent�s patience and professionalism. The agent actively listened and showed empathy throughout the call. The member appreciated the agent�s patience and professionalism. They provided clear guidance on the next steps. Detailed explanations helped build the member�s confidence. The member appreciated the agent�s patience and professionalism. Detailed explanations helped build the member�s confidence. They provided clear guidance on the next steps. The agent actively listened and showed empathy throughout the call. Detailed explanations helped build the member�s confidence."
        ]
       ],
       "datasetInfos": [],
       "dbfsResultPath": null,
       "isJsonSchema": true,
       "metadata": {},
       "overflow": false,
       "plotOptions": {
        "customPlotOptions": {},
        "displayType": "table",
        "pivotAggregation": null,
        "pivotColumns": null,
        "xColumns": null,
        "yColumns": null
       },
       "removedWidgets": [],
       "schema": [
        {
         "metadata": "{}",
         "name": "CallID",
         "type": "\"long\""
        },
        {
         "metadata": "{}",
         "name": "MembershipNumber",
         "type": "\"long\""
        },
        {
         "metadata": "{}",
         "name": "AgentID",
         "type": "\"string\""
        },
        {
         "metadata": "{}",
         "name": "DatetimeStamp",
         "type": "\"timestamp\""
        },
        {
         "metadata": "{}",
         "name": "AppTag",
         "type": "\"string\""
        },
        {
         "metadata": "{}",
         "name": "FirstContactResolution",
         "type": "\"long\""
        },
        {
         "metadata": "{}",
         "name": "NPS",
         "type": "\"long\""
        },
        {
         "metadata": "{}",
         "name": "NCR",
         "type": "\"long\""
        },
        {
         "metadata": "{}",
         "name": "Summary",
         "type": "\"string\""
        }
       ],
       "type": "table"
      }
     },
     "output_type": "display_data"
    }
   ],
   "source": [
    "df.head().display()"
   ]
  },
  {
   "cell_type": "markdown",
   "metadata": {
    "application/vnd.databricks.v1+cell": {
     "cellMetadata": {
      "byteLimit": 2048000,
      "rowLimit": 10000
     },
     "inputWidgets": {},
     "nuid": "190e9273-abdb-4cb2-b241-e25c2edfa1c1",
     "showTitle": false,
     "tableResultSettingsMap": {},
     "title": ""
    }
   },
   "source": [
    "# Sentiment Analysis"
   ]
  },
  {
   "cell_type": "code",
   "execution_count": 0,
   "metadata": {
    "application/vnd.databricks.v1+cell": {
     "cellMetadata": {},
     "inputWidgets": {},
     "nuid": "f758a1d5-e151-4f6d-82d8-74b083fccb49",
     "showTitle": false,
     "tableResultSettingsMap": {},
     "title": ""
    }
   },
   "outputs": [],
   "source": [
    "sentiment_analyzer = pipeline(\n",
    "    \"sentiment-analysis\",\n",
    "    model=\"distilbert-base-uncased-finetuned-sst-2-english\",\n",
    "    framework=\"pt\"\n",
    ")\n",
    "\n",
    "def summarize_sentiment(text, chunk_size=500):\n",
    "    # Break the text into chunks\n",
    "    chunks = textwrap.wrap(text, chunk_size)\n",
    "    \n",
    "    # Initialize variables to store scores\n",
    "    scores = []\n",
    "    first_chunk_score = None\n",
    "    last_chunk_score = None\n",
    "    \n",
    "    # Analyze each chunk\n",
    "    for i, chunk in enumerate(chunks):\n",
    "        result = sentiment_analyzer(chunk)\n",
    "        score = result[0]['score']\n",
    "        scores.append(score)\n",
    "        \n",
    "        # Capture scores for the first and last chunks\n",
    "        if i == 0:\n",
    "            first_chunk_score = score\n",
    "        if i == len(chunks) - 1:\n",
    "            last_chunk_score = score\n",
    "    \n",
    "    # Calculate the average score\n",
    "    average_score = sum(scores) / len(scores) if scores else 0.0\n",
    "    \n",
    "    return {\n",
    "        'average_score': average_score,\n",
    "        'first_chunk_score': first_chunk_score,\n",
    "        'last_chunk_score': last_chunk_score\n",
    "    }"
   ]
  },
  {
   "cell_type": "code",
   "execution_count": 0,
   "metadata": {
    "application/vnd.databricks.v1+cell": {
     "cellMetadata": {},
     "inputWidgets": {},
     "nuid": "5040d22d-85e1-424e-b290-114524f1a8d2",
     "showTitle": false,
     "tableResultSettingsMap": {},
     "title": ""
    }
   },
   "outputs": [],
   "source": [
    "# Implement the analysis \n",
    "sentiment_scores = df['Summary'].apply(summarize_sentiment)\n",
    "df[['average_score', 'first_chunk_score', 'last_chunk_score']] = pd.DataFrame(sentiment_scores.tolist(), index=df.index)"
   ]
  },
  {
   "cell_type": "code",
   "execution_count": 0,
   "metadata": {
    "application/vnd.databricks.v1+cell": {
     "cellMetadata": {
      "byteLimit": 2048000,
      "rowLimit": 10000
     },
     "inputWidgets": {},
     "nuid": "e22aa5c8-f29b-45ee-af24-76dc9472be83",
     "showTitle": false,
     "tableResultSettingsMap": {},
     "title": ""
    }
   },
   "outputs": [],
   "source": [
    "# Write the data back to UC\n",
    "table_name = \"bupa_call_synthetic_dataset_with_sentiment_score\"\n",
    "dut.write_data_to_bricks_catalog(df, table_name)"
   ]
  }
 ],
 "metadata": {
  "application/vnd.databricks.v1+notebook": {
   "computePreferences": null,
   "dashboards": [],
   "environmentMetadata": {
    "base_environment": "",
    "environment_version": "2"
   },
   "inputWidgetPreferences": null,
   "language": "python",
   "notebookMetadata": {
    "pythonIndentUnit": 2
   },
   "notebookName": "1-sentiment-analysis.ipynb",
   "widgets": {}
  },
  "language_info": {
   "name": "python"
  }
 },
 "nbformat": 4,
 "nbformat_minor": 0
}