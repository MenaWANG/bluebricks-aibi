{
 "cells": [
  {
   "cell_type": "markdown",
   "metadata": {},
   "source": [
    "# Introduction\n",
    "\n",
    "This notebook contains the prompts we used to create the synthetic data for the project. The first prompt simulates a variety of typical member calls to Bupa Health Insurance, while the second introduces a spike issue involving member distress and agent response. This setup allows us to test whether our model can detect emerging issues in real time and ensure the best possible service experience for our customers."
   ]
  },
  {
   "cell_type": "markdown",
   "metadata": {},
   "source": [
    "##  Prompt 1: For Typical Calls\n",
    "\n",
    "Could you please help me to generate some syntactic data for testing purpose? I need a conversation between a Bupa Health Insurance member and a Bupa Health Insurance contract centre agent. I need the conversation to last about 15 minutes, involving relatively complex enquiries. After that, I need three survey scores generated based on conversation from the member’s perspective: First **Contact Resolution** (in the format of yes/no - yes being 1 in the dataset and no being 0 in the dataset); **NPS** and **NCR**. Also help me to generate an **App Tag** used to tag the customer intent, as we would normally ask in the IVR “in a few simple words, tell us the reason you are calling today”. Please generate the dataset in a table format, with the entire call transcript in a single cell. Bupa membership numbers are 8 digits numeric, make randomly creating one for each conversation. For the themes, I would like there to be Service, Cover Review, Retention and Sales, please one call for each theme. For the other attributes, MemberNumberAppTag, FCR and NPS can stay as they are. For NCR, it stands for Net Consultant Rating, we ask the question at end of each call of \"Based on the interaction you had with the agent today, how likely would you recommend the agent who has provided service to you?\" The rating system is similar to NPS, therefore the score should also be between 1-10. I would also like to introduce a new attribute, **DatetimeStamp**, please use 5th May 2025 as the date, Bupa's contact centres open between 8AM and 8PM AEST (Melbourne time). Please create a datetime stamp for each call. For the trend, we have a morning rush between 9AM and 10:30AM where we could see a peak of the day's call volume up to 40%, from there it quiets down until lunch hour, then we get a mini peak for about 20% of the day's call volume, after lunch the volume would gradually decreases each hour until the contact centres close at 8PM. Lastly, to ensure data quality, the transcript of each call should contain between **1,500 and 3,000** words, to reflect calls handling time between 10 to 15 minutes.  \n",
    "\n",
    "\n"
   ]
  },
  {
   "cell_type": "markdown",
   "metadata": {},
   "source": [
    "## Prompt 2: For Target Issue Calls\n",
    "\n",
    "Now, I would like to do something a bit differently. I would like to generate another 90 calls with the same attributes. They would reflect a special situation: Two hospitals, operated by one of Bupa's private hospital partners, Carescope, Carescope Melbourne Private Hospital and Carescope Brisbane Private Hospital, have recently updated one of their eligibility checking process for a range of their in-hospital cancer treatments. The updated process went live on 5th May 2025. However, due to a training error to their admin team, they have incorrectly identified many Bupa members with eligible coverage as ineligible and started calling those Bupa members from 9AM to advise them that they would have to pay a large amount of out-pocket expense for the treatment. This is obviously incredibly stressful and upsetting for those Bupa members with cancer. Therefore, Bupa's contact centre started receiving calls from those impacted members from 10AM. Please help me to create **90 calls received between 10AM and 2PM**. For the summary of these calls, please reflect the frustration and stress of these members, and show how upset they are. From there, for 30 calls, let the agents handle the call very well, they have identified the issue, ensured the members it is simply a mistake made by the hospital. So they have received outstanding NPS and NCR. Please assign these 30 calls to 4 different agents. Then for another 30 calls, let the agents handle them just ok, therefore, while the members have regained some comfort from their conversations, they still had some doubt. Therefore, they have given mediocre NPS and NCR scores. Please assign these 30 calls to 6 differents. Lastly, for the final 30 calls, let the agents handle them badly, so the members are still upset after their call. These calls received low NPS and NCR scores. Please assign these calls to 3 different agents. Please ensure all of these calls' summaries contains the keywords Carescope Hospital, cancer treatment and out-pocket. Please generate an Excel file for me. Thank you very much!  "
   ]
  }
 ],
 "metadata": {
  "language_info": {
   "name": "python"
  }
 },
 "nbformat": 4,
 "nbformat_minor": 2
}
