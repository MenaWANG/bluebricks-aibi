{
 "cells": [
  {
   "cell_type": "markdown",
   "metadata": {},
   "source": [
    "# Sentiment Analysis with MLflow Integration\n",
    "\n",
    "This notebook performs sentiment analysis on customer call transcripts. It processes raw text data, applies a pre-trained sentiment analysis model (DistilBERT fine-tuned on SST-2), calculates sentiment scores and save them to a Unity Catalog table for downstream business intelligence and anomaly detection.\n",
    "\n",
    "### Core Functionality:\n",
    "*   **Data Loading**: Ingests call transcript data from a specified source table.\n",
    "*   **Sentiment Scoring**: Applies a transformer-based model to derive sentiment scores from text summaries. It handles long texts by breaking them into manageable chunks.\n",
    "*   **Results Storage**: Writes the enriched data, including the sentiment scores, to a target table in Unity Catalog.\n",
    "*   **Configuration Management**: Utilizes a centralized `config.py` for managing settings like table names, model names, and logging levels, promoting maintainability.\n",
    "*   **Robust Processing**: Incorporates enhanced logging for better traceability and error handling mechanisms, including fallbacks for model loading. It also supports efficient batch processing for large datasets.\n",
    "*   **MLFlow integration**:\n",
    "    *  Leverage MLflow for robust model lifecycle mamagement\n",
    "    *   **Model Registration**: The sentiment analysis model is programmatically registered in the MLflow Model Registry. This ensures that the exact model used for analysis is tracked and versioned.\n",
    "    *   **Version Control**: MLflow automatically versions the registered model, allowing for reproducibility and easy rollback to previous model versions if needed."
   ]
  },
  {
   "cell_type": "markdown",
   "metadata": {},
   "source": [
    "## Setup and Configuration"
   ]
  },
  {
   "cell_type": "code",
   "execution_count": null,
   "metadata": {
    "vscode": {
     "languageId": "plaintext"
    }
   },
   "outputs": [],
   "source": [
    "# Standard library imports\n",
    "import pandas as pd\n",
    "import mlflow\n",
    "import logging\n",
    "\n",
    "# Local application imports\n",
    "import config\n",
    "import de_utils as dut\n",
    "from mlflow_utils import SentimentAnalyzer, create_model_serving_endpoint\n",
    "\n",
    "# Configure logging\n",
    "logging.basicConfig(level=getattr(logging, config.LOG_LEVEL))\n",
    "logger = logging.getLogger(__name__)\n",
    "\n",
    "print(f\"Source table: {config.SOURCE_TABLE}\")\n",
    "print(f\"Target table: {config.TARGET_TABLE}\")\n",
    "print(f\"Model name: {config.MLFLOW_MODEL_NAME}\")"
   ]
  },
  {
   "cell_type": "markdown",
   "metadata": {},
   "source": [
    "## Load Data"
   ]
  },
  {
   "cell_type": "code",
   "execution_count": null,
   "metadata": {
    "vscode": {
     "languageId": "plaintext"
    }
   },
   "outputs": [],
   "source": [
    "# Load data using enhanced utilities\n",
    "df_spark = dut.read_data_from_bricks_catalog(config.SOURCE_TABLE)\n",
    "df = df_spark.toPandas()\n",
    "\n",
    "print(f\"Loaded {len(df)} records\")\n",
    "print(f\"Columns: {list(df.columns)}\")\n",
    "print(f\"Text column '{config.TEXT_COLUMN}' preview:\")\n",
    "if config.TEXT_COLUMN in df.columns:\n",
    "    print(df[config.TEXT_COLUMN].iloc[0][:200] + \"...\")\n",
    "else:\n",
    "    print(f\"❌ Warning: {config.TEXT_COLUMN} column not found!\")"
   ]
  },
  {
   "cell_type": "markdown",
   "metadata": {},
   "source": [
    "## Model Registration with MLflow"
   ]
  },
  {
   "cell_type": "code",
   "execution_count": null,
   "metadata": {
    "vscode": {
     "languageId": "plaintext"
    }
   },
   "outputs": [],
   "source": [
    "# Initialize sentiment analyzer\n",
    "analyzer = SentimentAnalyzer()\n",
    "\n",
    "# Register model with MLflow\n",
    "print(\"Registering sentiment analysis model with MLflow...\")\n",
    "model_info = analyzer.register_model_with_mlflow(\n",
    "    model_version_description=\"Blue Bricks DistilBERT sentiment analysis model for customer call transcripts\"\n",
    ")"
   ]
  },
  {
   "cell_type": "markdown",
   "metadata": {},
   "source": [
    "## Model Serving Setup"
   ]
  },
  {
   "cell_type": "code",
   "execution_count": null,
   "metadata": {
    "vscode": {
     "languageId": "plaintext"
    }
   },
   "outputs": [],
   "source": [
    "# Create model serving endpoint, fallback to direct inference if model serving not enabled\n",
    "print(\"Creating model serving endpoint...\")\n",
    "\n",
    "try:\n",
    "    endpoint = create_model_serving_endpoint()\n",
    "    if endpoint:\n",
    "        print(f\"Serving endpoint created: {endpoint.name}\")\n",
    "    else:\n",
    "        print(\"Serving endpoint creation skipped - will use direct model inference\")\n",
    "except Exception as e:\n",
    "    print(f\"Could not create serving endpoint: {e}\")\n",
    "    print(\"Pipeline will use direct model inference.\")"
   ]
  },
  {
   "cell_type": "markdown",
   "metadata": {},
   "source": [
    "## Sentiment Analysis Pipeline"
   ]
  },
  {
   "cell_type": "code",
   "execution_count": null,
   "metadata": {
    "vscode": {
     "languageId": "plaintext"
    }
   },
   "outputs": [],
   "source": [
    "# Use the complete pipeline function (recommended)\n",
    "print(\"Running complete sentiment analysis pipeline...\")\n",
    "\n",
    "success = dut.process_sentiment_analysis_pipeline(\n",
    "    source_table=config.SOURCE_TABLE,\n",
    "    target_table=config.TARGET_TABLE,\n",
    "    use_mlflow_model=True,  # Use MLflow registered model\n",
    "    batch_size=1000   \n",
    ")\n",
    "\n",
    "if success:\n",
    "    print(\"Pipeline completed successfully!\")\n",
    "    print(f\"Results saved to: {config.TARGET_TABLE}\")\n",
    "else:\n",
    "    print(\"❌ Pipeline failed - check logs for details\")"
   ]
  }
 ],
 "metadata": {
  "language_info": {
   "name": "python"
  }
 },
 "nbformat": 4,
 "nbformat_minor": 2
}
